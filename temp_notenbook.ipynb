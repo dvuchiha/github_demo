{
 "cells": [
  {
   "cell_type": "markdown",
   "id": "13e05763-b1ac-4387-9e92-873347ee6253",
   "metadata": {},
   "source": [
    "### First sol notebook to be commited"
   ]
  },
  {
   "cell_type": "code",
   "execution_count": 1,
   "id": "63b38b73-f151-4699-aa22-0d7f566e8daa",
   "metadata": {},
   "outputs": [
    {
     "name": "stdout",
     "output_type": "stream",
     "text": [
      "hello billy\n"
     ]
    }
   ],
   "source": [
    "print(\"hello billy\")"
   ]
  },
  {
   "cell_type": "code",
   "execution_count": null,
   "id": "c86f44ec-7d41-4232-9e54-77001560c08d",
   "metadata": {},
   "outputs": [],
   "source": []
  },
  {
   "cell_type": "code",
   "execution_count": null,
   "id": "2727ec85-847f-42cf-a927-6aa72b166800",
   "metadata": {},
   "outputs": [],
   "source": []
  },
  {
   "cell_type": "code",
   "execution_count": null,
   "id": "99aacce7-53c5-41dd-99d9-c3fc7ff3cc51",
   "metadata": {},
   "outputs": [],
   "source": []
  },
  {
   "cell_type": "code",
   "execution_count": null,
   "id": "df572e6d-d939-4b2f-931c-9b4701ccc361",
   "metadata": {},
   "outputs": [],
   "source": []
  },
  {
   "cell_type": "code",
   "execution_count": null,
   "id": "03133b81-1139-4786-80a5-7e17f3628dc6",
   "metadata": {},
   "outputs": [],
   "source": []
  }
 ],
 "metadata": {
  "kernelspec": {
   "display_name": "Python 3",
   "language": "python",
   "name": "python3"
  },
  "language_info": {
   "codemirror_mode": {
    "name": "ipython",
    "version": 3
   },
   "file_extension": ".py",
   "mimetype": "text/x-python",
   "name": "python",
   "nbconvert_exporter": "python",
   "pygments_lexer": "ipython3",
   "version": "3.8.8"
  }
 },
 "nbformat": 4,
 "nbformat_minor": 5
}

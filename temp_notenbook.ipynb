{
 "cells": [
  {
   "cell_type": "markdown",
   "id": "13e05763-b1ac-4387-9e92-873347ee6253",
   "metadata": {},
   "source": [
    "## First sol notebook to be commited"
   ]
  },
  {
   "cell_type": "markdown",
   "id": "8ae09a27-86fd-4275-8995-aaa4a8cee915",
   "metadata": {},
   "source": [
    "### Steps to setup a repo through jupyterhub extension\n",
    "* Initialize the repository = Git->'Initialize a repository'  (this is the local repository)\n",
    "* Create a github repository on github                        (this is the remote repository)\n",
    "* push your notebooks/files from Untracked to Staged  (you'll see the option in UI)\n",
    "* Commit changes  (you'll see the option in UI)\n",
    "* Create a personal access token from github, github-->settings-->Developer-settings-->click generate_token-->tick the repo option while creating token-->token generated! (Careful! this token is generated just once so make sure to note it down.\n",
    "* Now to push files from local to remote repo,click git->\"Push to Remote\"-> enter your github-username & personal_access_token generated above in the password space--> click push!"
   ]
  },
  {
   "cell_type": "code",
   "execution_count": null,
   "id": "03133b81-1139-4786-80a5-7e17f3628dc6",
   "metadata": {},
   "outputs": [],
   "source": []
  }
 ],
 "metadata": {
  "kernelspec": {
   "display_name": "Python 3",
   "language": "python",
   "name": "python3"
  },
  "language_info": {
   "codemirror_mode": {
    "name": "ipython",
    "version": 3
   },
   "file_extension": ".py",
   "mimetype": "text/x-python",
   "name": "python",
   "nbconvert_exporter": "python",
   "pygments_lexer": "ipython3",
   "version": "3.8.8"
  }
 },
 "nbformat": 4,
 "nbformat_minor": 5
}
